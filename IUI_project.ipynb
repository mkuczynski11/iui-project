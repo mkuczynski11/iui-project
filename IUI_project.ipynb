{
  "nbformat": 4,
  "nbformat_minor": 0,
  "metadata": {
    "colab": {
      "provenance": [],
      "mount_file_id": "10HQjCNbJsYMDAzv4U9JKd19S4EsOcAV9",
      "authorship_tag": "ABX9TyPOh8x1RVwuNlov+zkPCpxk",
      "include_colab_link": true
    },
    "kernelspec": {
      "name": "python3",
      "display_name": "Python 3"
    },
    "language_info": {
      "name": "python"
    }
  },
  "cells": [
    {
      "cell_type": "markdown",
      "metadata": {
        "id": "view-in-github",
        "colab_type": "text"
      },
      "source": [
        "<a href=\"https://colab.research.google.com/github/mkuczynski11/iui-project/blob/master/IUI_project.ipynb\" target=\"_parent\"><img src=\"https://colab.research.google.com/assets/colab-badge.svg\" alt=\"Open In Colab\"/></a>"
      ]
    },
    {
      "cell_type": "markdown",
      "source": [
        "# Notatnik do projektu z IUI - Klasyfikacja dokumentów prawnych z wizualizacją za pomocą algorytmu SOM"
      ],
      "metadata": {
        "id": "c2WqEpiBBn4U"
      }
    },
    {
      "cell_type": "markdown",
      "source": [
        "### Importowanie bibliotek i danych"
      ],
      "metadata": {
        "id": "DzvGTpyTBxdM"
      }
    },
    {
      "cell_type": "code",
      "execution_count": 101,
      "metadata": {
        "colab": {
          "base_uri": "https://localhost:8080/"
        },
        "id": "qR0YU20tBf6k",
        "outputId": "3fa8d543-f70c-4545-ecb2-c6eceea7f13d"
      },
      "outputs": [
        {
          "output_type": "stream",
          "name": "stdout",
          "text": [
            "Requirement already satisfied: morfeusz2 in /usr/local/lib/python3.10/dist-packages (1.99.7)\n"
          ]
        }
      ],
      "source": [
        "import pandas as pd\n",
        "import numpy as np\n",
        "import seaborn as sns\n",
        "import re, string\n",
        "import shutil\n",
        "\n",
        "# text-preprocessing\n",
        "import nltk\n",
        "from nltk.corpus import stopwords\n",
        "# nltk.download('stopwords')\n",
        "shutil.copyfile('./stop_words.txt', '/root/nltk_data/corpora/stopwords/polish')\n",
        "# from nltk.tokenize import word_tokenize\n",
        "# nltk.download('punkt')\n",
        "# nltk.download('averaged_perceptron_tagger')\n",
        "!pip install morfeusz2\n",
        "import morfeusz2\n",
        "\n",
        "# model-building\n",
        "from sklearn.model_selection import train_test_split\n",
        "from sklearn.linear_model import LogisticRegression\n",
        "from sklearn.metrics import classification_report, f1_score, accuracy_score, confusion_matrix\n",
        "from sklearn.metrics import roc_curve, auc, roc_auc_score\n",
        "\n",
        "# word embedding\n",
        "import gensim\n",
        "from gensim.models import Word2Vec\n",
        "from gensim.models import KeyedVectors\n",
        "\n",
        "# bag of words\n",
        "from sklearn.feature_extraction.text import TfidfVectorizer"
      ]
    },
    {
      "cell_type": "code",
      "source": [
        "df = pd.read_csv('./dbdata.csv', encoding='Windows-1252')"
      ],
      "metadata": {
        "id": "L98z0xkOB_ib"
      },
      "execution_count": 19,
      "outputs": []
    },
    {
      "cell_type": "markdown",
      "source": [
        "### Eksploracja danych"
      ],
      "metadata": {
        "id": "BMGqffCLCewm"
      }
    },
    {
      "cell_type": "markdown",
      "source": [
        "#### Dystybucja klas"
      ],
      "metadata": {
        "id": "FTBoY6LACyn5"
      }
    },
    {
      "cell_type": "code",
      "source": [
        "g = sns.countplot(x = 'label', data = df)\n",
        "g.set_xticklabels(g.get_xticklabels(), rotation=90)"
      ],
      "metadata": {
        "colab": {
          "base_uri": "https://localhost:8080/",
          "height": 741
        },
        "id": "dkHLa-h4C0Zq",
        "outputId": "eeae41d0-20ed-49c1-a0be-8034fab2cbc1"
      },
      "execution_count": 29,
      "outputs": [
        {
          "output_type": "execute_result",
          "data": {
            "text/plain": [
              "[Text(0, 0, 'prawo cywilne'),\n",
              " Text(1, 0, 'prawo administracyjne'),\n",
              " Text(2, 0, 'prawo farmaceutyczne'),\n",
              " Text(3, 0, 'prawo pracy'),\n",
              " Text(4, 0, 'prawo medyczne'),\n",
              " Text(5, 0, 'prawo karne'),\n",
              " Text(6, 0, 'inne'),\n",
              " Text(7, 0, 'prawo podatkowe')]"
            ]
          },
          "metadata": {},
          "execution_count": 29
        },
        {
          "output_type": "display_data",
          "data": {
            "text/plain": [
              "<Figure size 640x480 with 1 Axes>"
            ],
            "image/png": "[encoded data removed]"
          },
          "metadata": {}
        }
      ]
    },
    {
      "cell_type": "markdown",
      "source": [
        "#### Wartości brakujące"
      ],
      "metadata": {
        "id": "c0EfaWgKFHoW"
      }
    },
    {
      "cell_type": "code",
      "source": [
        "print(df.isna().sum())\n",
        "print(f'Samples before cleanup: {len(df)}')\n",
        "df = df[df['sample'].notnull()]\n",
        "print(f'Samples after removing null sample values: {len(df)}')"
      ],
      "metadata": {
        "colab": {
          "base_uri": "https://localhost:8080/"
        },
        "id": "NxG0D4yrClZz",
        "outputId": "99ae4fb9-67da-405d-e274-abed93ab438f"
      },
      "execution_count": 32,
      "outputs": [
        {
          "output_type": "stream",
          "name": "stdout",
          "text": [
            "id        0\n",
            "sample    0\n",
            "label     0\n",
            "dtype: int64\n",
            "Samples before cleanup: 2719\n",
            "Samples after removing null sample values: 2719\n"
          ]
        }
      ]
    },
    {
      "cell_type": "markdown",
      "source": [
        "### Pre-processing dokumentów"
      ],
      "metadata": {
        "id": "qdsqyusWFW9U"
      }
    },
    {
      "cell_type": "markdown",
      "source": [
        "#### Usunięcie znaków specjalnych itp."
      ],
      "metadata": {
        "id": "s9lHU4JyFzyl"
      }
    },
    {
      "cell_type": "code",
      "source": [
        "# zamiana liter na małe, usunięcie dodatkowych spacji, usunięcie interpunkcji\n",
        "def preprocess(text):\n",
        "  text = text.lower()\n",
        "  text = text.strip()\n",
        "  text = re.compile('<.*?>').sub('', text)\n",
        "  text = re.compile('[%s]' % re.escape(string.punctuation)).sub('', text)\n",
        "  text = re.sub('\\s+', ' ', text)\n",
        "  text = re.sub(r'\\[[0-9]*\\]',' ',text)\n",
        "  text=re.sub(r'[^\\w\\s]', '', str(text).lower().strip())\n",
        "  text = re.sub(r'\\d',' ',text)\n",
        "  text = re.sub(r'\\s+',' ',text)\n",
        "  return text"
      ],
      "metadata": {
        "id": "-xyrID2dGMH4"
      },
      "execution_count": 34,
      "outputs": []
    },
    {
      "cell_type": "markdown",
      "source": [
        "### Usunięcie stop-words"
      ],
      "metadata": {
        "id": "ISHr72e7F36Y"
      }
    },
    {
      "cell_type": "code",
      "source": [
        "# usunięcie słów ze słownika stop-words\n",
        "def stopword_removal(string):\n",
        "  a= [i for i in string.split() if i not in stopwords.words('polish')]\n",
        "  return ' '.join(a)"
      ],
      "metadata": {
        "id": "4PULmx__Gv4y"
      },
      "execution_count": 36,
      "outputs": []
    },
    {
      "cell_type": "markdown",
      "source": [
        "### Lemmatization"
      ],
      "metadata": {
        "id": "bYHwwwpdGAWY"
      }
    },
    {
      "cell_type": "code",
      "source": [
        "morf = morfeusz2.Morfeusz()\n",
        "def lemmatizer(string):\n",
        "  text = \"\"\n",
        "  for word in string.split():\n",
        "    analysis = morf.analyse(word)\n",
        "    text = text + analysis[0][2][1].split(':')[0] + \" \"\n",
        "  return text[:-2]"
      ],
      "metadata": {
        "id": "dFP8--9EHL2P"
      },
      "execution_count": 112,
      "outputs": []
    },
    {
      "cell_type": "markdown",
      "source": [
        "#### Rezultat pre-processingu"
      ],
      "metadata": {
        "id": "YUBbOTB1HVyW"
      }
    },
    {
      "cell_type": "code",
      "source": [
        "def finalpreprocess(string):\n",
        "  return lemmatizer(stopword_removal(preprocess(string)))"
      ],
      "metadata": {
        "id": "ISUQURcwHYil"
      },
      "execution_count": 76,
      "outputs": []
    },
    {
      "cell_type": "code",
      "source": [
        "df['clean_sample'] = df['sample'].apply(lambda x: finalpreprocess(x))\n",
        "df.head()"
      ],
      "metadata": {
        "colab": {
          "base_uri": "https://localhost:8080/",
          "height": 293
        },
        "id": "p6eFbmgOHgau",
        "outputId": "1c4cb910-0f3b-463a-f1d1-69d98a18606b"
      },
      "execution_count": 77,
      "outputs": [
        {
          "output_type": "execute_result",
          "data": {
            "text/plain": [
              "   id                                             sample  \\\n",
              "0   0  czy wspólnota mieszkaniowa mo¿e podj¹æ uchwa³ê...   \n",
              "1   1  czy wspólnota mieszkaniowa mo¿e odzyskaæ pomie...   \n",
              "2   2  czy uprawnienie mieszkañców wspólnoty mieszkan...   \n",
              "3   3  czy budowa windy dla osób niepe³nosprawnych mo...   \n",
              "4   4  jakie czynnoœci powinna podj¹æ wspólnota miesz...   \n",
              "\n",
              "                   label                                       clean_sample  \n",
              "0          prawo cywilne  wspólnota mieszkaniowy moe podj¹æ uchwa³ê doty...  \n",
              "1          prawo cywilne  wspólnota mieszkaniowy moe odzyskaæ pomieścić ...  \n",
              "2  prawo administracyjne  uprawnić mieszkañców wspólnota mieszkaniowy zg...  \n",
              "3  prawo administracyjne  budowa winda osoba niepe³nosprawnych moe zosta...  \n",
              "4          prawo cywilne  czynnoœci podj¹æ wspólnota mieszkaniowy za³oen...  "
            ],
            "text/html": [
              "\n",
              "  <div id=\"df-f6957b03-0108-4c1d-8ac8-4f11a0b4efa5\" class=\"colab-df-container\">\n",
              "    <div>\n",
              "<style scoped>\n",
              "    .dataframe tbody tr th:only-of-type {\n",
              "        vertical-align: middle;\n",
              "    }\n",
              "\n",
              "    .dataframe tbody tr th {\n",
              "        vertical-align: top;\n",
              "    }\n",
              "\n",
              "    .dataframe thead th {\n",
              "        text-align: right;\n",
              "    }\n",
              "</style>\n",
              "<table border=\"1\" class=\"dataframe\">\n",
              "  <thead>\n",
              "    <tr style=\"text-align: right;\">\n",
              "      <th></th>\n",
              "      <th>id</th>\n",
              "      <th>sample</th>\n",
              "      <th>label</th>\n",
              "      <th>clean_sample</th>\n",
              "    </tr>\n",
              "  </thead>\n",
              "  <tbody>\n",
              "    <tr>\n",
              "      <th>0</th>\n",
              "      <td>0</td>\n",
              "      <td>czy wspólnota mieszkaniowa mo¿e podj¹æ uchwa³ê...</td>\n",
              "      <td>prawo cywilne</td>\n",
              "      <td>wspólnota mieszkaniowy moe podj¹æ uchwa³ê doty...</td>\n",
              "    </tr>\n",
              "    <tr>\n",
              "      <th>1</th>\n",
              "      <td>1</td>\n",
              "      <td>czy wspólnota mieszkaniowa mo¿e odzyskaæ pomie...</td>\n",
              "      <td>prawo cywilne</td>\n",
              "      <td>wspólnota mieszkaniowy moe odzyskaæ pomieścić ...</td>\n",
              "    </tr>\n",
              "    <tr>\n",
              "      <th>2</th>\n",
              "      <td>2</td>\n",
              "      <td>czy uprawnienie mieszkañców wspólnoty mieszkan...</td>\n",
              "      <td>prawo administracyjne</td>\n",
              "      <td>uprawnić mieszkañców wspólnota mieszkaniowy zg...</td>\n",
              "    </tr>\n",
              "    <tr>\n",
              "      <th>3</th>\n",
              "      <td>3</td>\n",
              "      <td>czy budowa windy dla osób niepe³nosprawnych mo...</td>\n",
              "      <td>prawo administracyjne</td>\n",
              "      <td>budowa winda osoba niepe³nosprawnych moe zosta...</td>\n",
              "    </tr>\n",
              "    <tr>\n",
              "      <th>4</th>\n",
              "      <td>4</td>\n",
              "      <td>jakie czynnoœci powinna podj¹æ wspólnota miesz...</td>\n",
              "      <td>prawo cywilne</td>\n",
              "      <td>czynnoœci podj¹æ wspólnota mieszkaniowy za³oen...</td>\n",
              "    </tr>\n",
              "  </tbody>\n",
              "</table>\n",
              "</div>\n",
              "    <div class=\"colab-df-buttons\">\n",
              "\n",
              "  <div class=\"colab-df-container\">\n",
              "    <button class=\"colab-df-convert\" onclick=\"convertToInteractive('df-f6957b03-0108-4c1d-8ac8-4f11a0b4efa5')\"\n",
              "            title=\"Convert this dataframe to an interactive table.\"\n",
              "            style=\"display:none;\">\n",
              "\n",
              "  <svg xmlns=\"http://www.w3.org/2000/svg\" height=\"24px\" viewBox=\"0 -960 960 960\">\n",
              "    <path d=\"M120-120v-720h720v720H120Zm60-500h600v-160H180v160Zm220 220h160v-160H400v160Zm0 220h160v-160H400v160ZM180-400h160v-160H180v160Zm440 0h160v-160H620v160ZM180-180h160v-160H180v160Zm440 0h160v-160H620v160Z\"/>\n",
              "  </svg>\n",
              "    </button>\n",
              "\n",
              "  <style>\n",
              "    .colab-df-container {\n",
              "      display:flex;\n",
              "      gap: 12px;\n",
              "    }\n",
              "\n",
              "    .colab-df-convert {\n",
              "      background-color: #E8F0FE;\n",
              "      border: none;\n",
              "      border-radius: 50%;\n",
              "      cursor: pointer;\n",
              "      display: none;\n",
              "      fill: #1967D2;\n",
              "      height: 32px;\n",
              "      padding: 0 0 0 0;\n",
              "      width: 32px;\n",
              "    }\n",
              "\n",
              "    .colab-df-convert:hover {\n",
              "      background-color: #E2EBFA;\n",
              "      box-shadow: 0px 1px 2px rgba(60, 64, 67, 0.3), 0px 1px 3px 1px rgba(60, 64, 67, 0.15);\n",
              "      fill: #174EA6;\n",
              "    }\n",
              "\n",
              "    .colab-df-buttons div {\n",
              "      margin-bottom: 4px;\n",
              "    }\n",
              "\n",
              "    [theme=dark] .colab-df-convert {\n",
              "      background-color: #3B4455;\n",
              "      fill: #D2E3FC;\n",
              "    }\n",
              "\n",
              "    [theme=dark] .colab-df-convert:hover {\n",
              "      background-color: #434B5C;\n",
              "      box-shadow: 0px 1px 3px 1px rgba(0, 0, 0, 0.15);\n",
              "      filter: drop-shadow(0px 1px 2px rgba(0, 0, 0, 0.3));\n",
              "      fill: #FFFFFF;\n",
              "    }\n",
              "  </style>\n",
              "\n",
              "    <script>\n",
              "      const buttonEl =\n",
              "        document.querySelector('#df-f6957b03-0108-4c1d-8ac8-4f11a0b4efa5 button.colab-df-convert');\n",
              "      buttonEl.style.display =\n",
              "        google.colab.kernel.accessAllowed ? 'block' : 'none';\n",
              "\n",
              "      async function convertToInteractive(key) {\n",
              "        const element = document.querySelector('#df-f6957b03-0108-4c1d-8ac8-4f11a0b4efa5');\n",
              "        const dataTable =\n",
              "          await google.colab.kernel.invokeFunction('convertToInteractive',\n",
              "                                                    [key], {});\n",
              "        if (!dataTable) return;\n",
              "\n",
              "        const docLinkHtml = 'Like what you see? Visit the ' +\n",
              "          '<a target=\"_blank\" href=https://colab.research.google.com/notebooks/data_table.ipynb>data table notebook</a>'\n",
              "          + ' to learn more about interactive tables.';\n",
              "        element.innerHTML = '';\n",
              "        dataTable['output_type'] = 'display_data';\n",
              "        await google.colab.output.renderOutput(dataTable, element);\n",
              "        const docLink = document.createElement('div');\n",
              "        docLink.innerHTML = docLinkHtml;\n",
              "        element.appendChild(docLink);\n",
              "      }\n",
              "    </script>\n",
              "  </div>\n",
              "\n",
              "\n",
              "<div id=\"df-2e046fac-4612-4d8b-858b-16226fcbb5b1\">\n",
              "  <button class=\"colab-df-quickchart\" onclick=\"quickchart('df-2e046fac-4612-4d8b-858b-16226fcbb5b1')\"\n",
              "            title=\"Suggest charts.\"\n",
              "            style=\"display:none;\">\n",
              "\n",
              "<svg xmlns=\"http://www.w3.org/2000/svg\" height=\"24px\"viewBox=\"0 0 24 24\"\n",
              "     width=\"24px\">\n",
              "    <g>\n",
              "        <path d=\"M19 3H5c-1.1 0-2 .9-2 2v14c0 1.1.9 2 2 2h14c1.1 0 2-.9 2-2V5c0-1.1-.9-2-2-2zM9 17H7v-7h2v7zm4 0h-2V7h2v10zm4 0h-2v-4h2v4z\"/>\n",
              "    </g>\n",
              "</svg>\n",
              "  </button>\n",
              "\n",
              "<style>\n",
              "  .colab-df-quickchart {\n",
              "      --bg-color: #E8F0FE;\n",
              "      --fill-color: #1967D2;\n",
              "      --hover-bg-color: #E2EBFA;\n",
              "      --hover-fill-color: #174EA6;\n",
              "      --disabled-fill-color: #AAA;\n",
              "      --disabled-bg-color: #DDD;\n",
              "  }\n",
              "\n",
              "  [theme=dark] .colab-df-quickchart {\n",
              "      --bg-color: #3B4455;\n",
              "      --fill-color: #D2E3FC;\n",
              "      --hover-bg-color: #434B5C;\n",
              "      --hover-fill-color: #FFFFFF;\n",
              "      --disabled-bg-color: #3B4455;\n",
              "      --disabled-fill-color: #666;\n",
              "  }\n",
              "\n",
              "  .colab-df-quickchart {\n",
              "    background-color: var(--bg-color);\n",
              "    border: none;\n",
              "    border-radius: 50%;\n",
              "    cursor: pointer;\n",
              "    display: none;\n",
              "    fill: var(--fill-color);\n",
              "    height: 32px;\n",
              "    padding: 0;\n",
              "    width: 32px;\n",
              "  }\n",
              "\n",
              "  .colab-df-quickchart:hover {\n",
              "    background-color: var(--hover-bg-color);\n",
              "    box-shadow: 0 1px 2px rgba(60, 64, 67, 0.3), 0 1px 3px 1px rgba(60, 64, 67, 0.15);\n",
              "    fill: var(--button-hover-fill-color);\n",
              "  }\n",
              "\n",
              "  .colab-df-quickchart-complete:disabled,\n",
              "  .colab-df-quickchart-complete:disabled:hover {\n",
              "    background-color: var(--disabled-bg-color);\n",
              "    fill: var(--disabled-fill-color);\n",
              "    box-shadow: none;\n",
              "  }\n",
              "\n",
              "  .colab-df-spinner {\n",
              "    border: 2px solid var(--fill-color);\n",
              "    border-color: transparent;\n",
              "    border-bottom-color: var(--fill-color);\n",
              "    animation:\n",
              "      spin 1s steps(1) infinite;\n",
              "  }\n",
              "\n",
              "  @keyframes spin {\n",
              "    0% {\n",
              "      border-color: transparent;\n",
              "      border-bottom-color: var(--fill-color);\n",
              "      border-left-color: var(--fill-color);\n",
              "    }\n",
              "    20% {\n",
              "      border-color: transparent;\n",
              "      border-left-color: var(--fill-color);\n",
              "      border-top-color: var(--fill-color);\n",
              "    }\n",
              "    30% {\n",
              "      border-color: transparent;\n",
              "      border-left-color: var(--fill-color);\n",
              "      border-top-color: var(--fill-color);\n",
              "      border-right-color: var(--fill-color);\n",
              "    }\n",
              "    40% {\n",
              "      border-color: transparent;\n",
              "      border-right-color: var(--fill-color);\n",
              "      border-top-color: var(--fill-color);\n",
              "    }\n",
              "    60% {\n",
              "      border-color: transparent;\n",
              "      border-right-color: var(--fill-color);\n",
              "    }\n",
              "    80% {\n",
              "      border-color: transparent;\n",
              "      border-right-color: var(--fill-color);\n",
              "      border-bottom-color: var(--fill-color);\n",
              "    }\n",
              "    90% {\n",
              "      border-color: transparent;\n",
              "      border-bottom-color: var(--fill-color);\n",
              "    }\n",
              "  }\n",
              "</style>\n",
              "\n",
              "  <script>\n",
              "    async function quickchart(key) {\n",
              "      const quickchartButtonEl =\n",
              "        document.querySelector('#' + key + ' button');\n",
              "      quickchartButtonEl.disabled = true;  // To prevent multiple clicks.\n",
              "      quickchartButtonEl.classList.add('colab-df-spinner');\n",
              "      try {\n",
              "        const charts = await google.colab.kernel.invokeFunction(\n",
              "            'suggestCharts', [key], {});\n",
              "      } catch (error) {\n",
              "        console.error('Error during call to suggestCharts:', error);\n",
              "      }\n",
              "      quickchartButtonEl.classList.remove('colab-df-spinner');\n",
              "      quickchartButtonEl.classList.add('colab-df-quickchart-complete');\n",
              "    }\n",
              "    (() => {\n",
              "      let quickchartButtonEl =\n",
              "        document.querySelector('#df-2e046fac-4612-4d8b-858b-16226fcbb5b1 button');\n",
              "      quickchartButtonEl.style.display =\n",
              "        google.colab.kernel.accessAllowed ? 'block' : 'none';\n",
              "    })();\n",
              "  </script>\n",
              "</div>\n",
              "    </div>\n",
              "  </div>\n"
            ]
          },
          "metadata": {},
          "execution_count": 77
        }
      ]
    },
    {
      "cell_type": "markdown",
      "source": [
        "### Wektoryzacja danych za pomocą Word2Vec"
      ],
      "metadata": {
        "id": "FdYEe8DdRISb"
      }
    },
    {
      "cell_type": "code",
      "source": [
        "class MeanEmbeddingVectorizer(object):\n",
        "  def __init__(self, word2vec):\n",
        "    self.word2vec = word2vec\n",
        "    self.dim = 100\n",
        "\n",
        "  def fit(self, X, y):\n",
        "    return self\n",
        "\n",
        "  def transform(self, X):\n",
        "    return np.array([np.mean([self.word2vec.wv[w] for w in words if w in self.word2vec.wv] or [np.zeros(self.dim)], axis=0) for words in X])\n"
      ],
      "metadata": {
        "id": "vHDia_8oRJ5o"
      },
      "execution_count": 127,
      "outputs": []
    },
    {
      "cell_type": "code",
      "source": [
        "w2v = KeyedVectors.load(\"./drive/MyDrive/word2vec_polish/fasttext_100_3_polish.bin\")"
      ],
      "metadata": {
        "id": "POPE8o7aZTJz"
      },
      "execution_count": 116,
      "outputs": []
    },
    {
      "cell_type": "code",
      "source": [
        "modelw = MeanEmbeddingVectorizer(w2v)"
      ],
      "metadata": {
        "id": "n1qTO3oX4yJc"
      },
      "execution_count": 129,
      "outputs": []
    },
    {
      "cell_type": "markdown",
      "source": [
        "### Trenowanie modelu klasyfikacji dokumentów"
      ],
      "metadata": {
        "id": "NAURR8AweckE"
      }
    },
    {
      "cell_type": "markdown",
      "source": [
        "#### Splity danych"
      ],
      "metadata": {
        "id": "LO643ekyegG4"
      }
    },
    {
      "cell_type": "code",
      "source": [
        "X_train, X_test, y_train, y_test = train_test_split(df[\"clean_sample\"],df[\"label\"],test_size=0.2,shuffle=True)"
      ],
      "metadata": {
        "id": "rbMoZUeAZV79"
      },
      "execution_count": 106,
      "outputs": []
    },
    {
      "cell_type": "markdown",
      "source": [
        "#### Model z wykorzystaniem danych zwektorayzowanych na podstawie bag-of-words"
      ],
      "metadata": {
        "id": "QrPrYX3Dehwr"
      }
    },
    {
      "cell_type": "code",
      "source": [
        "tfidf_vectorizer = TfidfVectorizer(use_idf=True)\n",
        "X_train_vectors_tfidf = tfidf_vectorizer.fit_transform(X_train)\n",
        "X_test_vectors_tfidf = tfidf_vectorizer.transform(X_test)"
      ],
      "metadata": {
        "id": "NkmiCf7edYp4"
      },
      "execution_count": 107,
      "outputs": []
    },
    {
      "cell_type": "code",
      "source": [
        "lr_tfidf=LogisticRegression(solver = 'liblinear', C=10, penalty = 'l2')\n",
        "lr_tfidf.fit(X_train_vectors_tfidf, y_train)\n",
        "\n",
        "y_predict = lr_tfidf.predict(X_test_vectors_tfidf)\n",
        "y_prob = lr_tfidf.predict_proba(X_test_vectors_tfidf)[:,1]\n",
        "print(classification_report(y_test,y_predict))\n",
        "print('Confusion Matrix:',confusion_matrix(y_test, y_predict))"
      ],
      "metadata": {
        "colab": {
          "base_uri": "https://localhost:8080/"
        },
        "id": "tfNgVM7zdfdB",
        "outputId": "db1599c4-cd49-421c-f175-180efc22ceac"
      },
      "execution_count": 111,
      "outputs": [
        {
          "output_type": "stream",
          "name": "stdout",
          "text": [
            "                       precision    recall  f1-score   support\n",
            "\n",
            "                 inne       0.50      0.12      0.20         8\n",
            "prawo administracyjne       0.55      0.34      0.42        50\n",
            "        prawo cywilne       0.65      0.80      0.72       101\n",
            " prawo farmaceutyczne       0.74      0.77      0.76        48\n",
            "          prawo karne       0.67      0.30      0.41        47\n",
            "       prawo medyczne       0.67      0.80      0.73       171\n",
            "      prawo podatkowe       1.00      0.50      0.67        14\n",
            "          prawo pracy       0.82      0.81      0.81       105\n",
            "\n",
            "             accuracy                           0.70       544\n",
            "            macro avg       0.70      0.56      0.59       544\n",
            "         weighted avg       0.70      0.70      0.68       544\n",
            "\n",
            "Confusion Matrix: [[  1   2   2   0   1   2   0   0]\n",
            " [  0  17  19   1   1  10   0   2]\n",
            " [  0   2  81   1   1  14   0   2]\n",
            " [  0   0   0  37   1   8   0   2]\n",
            " [  0   2  14   0  14  16   0   1]\n",
            " [  1   5   5   8   3 137   0  12]\n",
            " [  0   1   1   1   0   4   7   0]\n",
            " [  0   2   2   2   0  14   0  85]]\n"
          ]
        }
      ]
    },
    {
      "cell_type": "markdown",
      "source": [
        "### Model z wykorzystaniem danych zwektoryzowanych na podstawie Word2Vec"
      ],
      "metadata": {
        "id": "JQSlTFQG5WQY"
      }
    },
    {
      "cell_type": "code",
      "source": [
        "X_train_tok = [i.split() for i in X_train]\n",
        "X_test_tok = [i.split() for i in X_test]\n",
        "\n",
        "X_train_vectors_w2v = modelw.transform(X_train_tok)\n",
        "X_test_vectors_w2v = modelw.transform(X_test_tok)"
      ],
      "metadata": {
        "id": "MEiXHocY5a8I"
      },
      "execution_count": 132,
      "outputs": []
    },
    {
      "cell_type": "code",
      "source": [
        "lr_tfidf=LogisticRegression(solver = 'liblinear', C=10, penalty = 'l2')\n",
        "lr_tfidf.fit(X_train_vectors_w2v, y_train)\n",
        "\n",
        "y_predict = lr_tfidf.predict(X_test_vectors_w2v)\n",
        "y_prob = lr_tfidf.predict_proba(X_test_vectors_w2v)[:,1]\n",
        "print(classification_report(y_test,y_predict))\n",
        "print('Confusion Matrix:',confusion_matrix(y_test, y_predict))"
      ],
      "metadata": {
        "colab": {
          "base_uri": "https://localhost:8080/"
        },
        "id": "C4n8IGap6Ne7",
        "outputId": "ef454e11-1573-4603-a812-caab69f6bce7"
      },
      "execution_count": 133,
      "outputs": [
        {
          "output_type": "stream",
          "name": "stdout",
          "text": [
            "                       precision    recall  f1-score   support\n",
            "\n",
            "                 inne       0.33      0.12      0.18         8\n",
            "prawo administracyjne       0.49      0.38      0.43        50\n",
            "        prawo cywilne       0.57      0.73      0.64       101\n",
            " prawo farmaceutyczne       0.61      0.52      0.56        48\n",
            "          prawo karne       0.59      0.36      0.45        47\n",
            "       prawo medyczne       0.62      0.71      0.66       171\n",
            "      prawo podatkowe       0.44      0.50      0.47        14\n",
            "          prawo pracy       0.68      0.60      0.64       105\n",
            "\n",
            "             accuracy                           0.60       544\n",
            "            macro avg       0.54      0.49      0.50       544\n",
            "         weighted avg       0.60      0.60      0.59       544\n",
            "\n",
            "Confusion Matrix: [[  1   0   2   1   1   2   0   1]\n",
            " [  0  19  17   0   1   9   1   3]\n",
            " [  1   8  74   2   5   8   2   1]\n",
            " [  0   3   3  25   0  10   4   3]\n",
            " [  0   1  11   2  17  13   0   3]\n",
            " [  0   6  13   7   4 121   2  18]\n",
            " [  0   2   1   0   0   3   7   1]\n",
            " [  1   0   8   4   1  28   0  63]]\n"
          ]
        }
      ]
    }
  ]
}