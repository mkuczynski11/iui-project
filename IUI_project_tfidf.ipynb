{
  "nbformat": 4,
  "nbformat_minor": 0,
  "metadata": {
    "colab": {
      "provenance": [],
      "gpuType": "T4",
      "mount_file_id": "1qECrWG8NPrkBlk1IV3R-7hO8TBBJiDGp",
      "authorship_tag": "ABX9TyN7iTBuEuuifgLbzcoEESQ9",
      "include_colab_link": true
    },
    "kernelspec": {
      "name": "python3",
      "display_name": "Python 3"
    },
    "language_info": {
      "name": "python"
    },
    "accelerator": "GPU"
  },
  "cells": [
    {
      "cell_type": "markdown",
      "metadata": {
        "id": "view-in-github",
        "colab_type": "text"
      },
      "source": [
        "<a href=\"https://colab.research.google.com/github/mkuczynski11/iui-project/blob/master/IUI_project_tfidf.ipynb\" target=\"_parent\"><img src=\"https://colab.research.google.com/assets/colab-badge.svg\" alt=\"Open In Colab\"/></a>"
      ]
    },
    {
      "cell_type": "markdown",
      "source": [
        "# Notatnik do projektu z IUI - Klasyfikacja dokumentów prawnych z wizualizacją za pomocą algorytmu SOM"
      ],
      "metadata": {
        "id": "c2WqEpiBBn4U"
      }
    },
    {
      "cell_type": "markdown",
      "source": [
        "### Importowanie bibliotek i danych"
      ],
      "metadata": {
        "id": "DzvGTpyTBxdM"
      }
    },
    {
      "cell_type": "code",
      "execution_count": null,
      "metadata": {
        "colab": {
          "base_uri": "https://localhost:8080/"
        },
        "id": "qR0YU20tBf6k",
        "outputId": "1def61c9-45f8-4ef4-bc79-4da74bd14f05"
      },
      "outputs": [
        {
          "output_type": "stream",
          "name": "stderr",
          "text": [
            "[nltk_data] Downloading package stopwords to /root/nltk_data...\n",
            "[nltk_data]   Package stopwords is already up-to-date!\n"
          ]
        },
        {
          "output_type": "stream",
          "name": "stdout",
          "text": [
            "Requirement already satisfied: morfeusz2 in /usr/local/lib/python3.10/dist-packages (1.99.7)\n"
          ]
        }
      ],
      "source": [
        "import pandas as pd\n",
        "import numpy as np\n",
        "import seaborn as sns\n",
        "import re, string\n",
        "import shutil\n",
        "\n",
        "# text-preprocessing\n",
        "import nltk\n",
        "from nltk.corpus import stopwords\n",
        "nltk.download('stopwords')\n",
        "shutil.copyfile('./drive/MyDrive/IUI/stop_words.txt', '/root/nltk_data/corpora/stopwords/polish')\n",
        "# from nltk.tokenize import word_tokenize\n",
        "# nltk.download('punkt')\n",
        "# nltk.download('averaged_perceptron_tagger')\n",
        "!pip install morfeusz2\n",
        "import morfeusz2\n",
        "\n",
        "# model-building\n",
        "from sklearn.model_selection import train_test_split\n",
        "from sklearn.linear_model import LogisticRegression\n",
        "from sklearn.metrics import classification_report, f1_score, accuracy_score, confusion_matrix\n",
        "from sklearn.metrics import roc_curve, auc, roc_auc_score\n",
        "\n",
        "# bag of words\n",
        "from sklearn.feature_extraction.text import TfidfVectorizer"
      ]
    },
    {
      "cell_type": "code",
      "source": [
        "df = pd.read_csv('./drive/MyDrive/IUI/dbdata.csv', encoding='Windows-1250')\n",
        "df.head()"
      ],
      "metadata": {
        "id": "L98z0xkOB_ib",
        "colab": {
          "base_uri": "https://localhost:8080/",
          "height": 206
        },
        "outputId": "441e2aa1-dfba-416e-a91a-aa799da0c42a"
      },
      "execution_count": null,
      "outputs": [
        {
          "output_type": "execute_result",
          "data": {
            "text/plain": [
              "   id                                             sample  \\\n",
              "0   0  czy wspólnota mieszkaniowa może podjąć uchwałę...   \n",
              "1   1  czy wspólnota mieszkaniowa może odzyskać pomie...   \n",
              "2   2  czy uprawnienie mieszkańców wspólnoty mieszkan...   \n",
              "3   3  czy budowa windy dla osób niepełnosprawnych mo...   \n",
              "4   4  jakie czynności powinna podjąć wspólnota miesz...   \n",
              "\n",
              "                   label  \n",
              "0          prawo cywilne  \n",
              "1          prawo cywilne  \n",
              "2  prawo administracyjne  \n",
              "3  prawo administracyjne  \n",
              "4          prawo cywilne  "
            ],
            "text/html": [
              "\n",
              "  <div id=\"df-689fde7f-35eb-4c29-b2bd-89f0bc6b393a\" class=\"colab-df-container\">\n",
              "    <div>\n",
              "<style scoped>\n",
              "    .dataframe tbody tr th:only-of-type {\n",
              "        vertical-align: middle;\n",
              "    }\n",
              "\n",
              "    .dataframe tbody tr th {\n",
              "        vertical-align: top;\n",
              "    }\n",
              "\n",
              "    .dataframe thead th {\n",
              "        text-align: right;\n",
              "    }\n",
              "</style>\n",
              "<table border=\"1\" class=\"dataframe\">\n",
              "  <thead>\n",
              "    <tr style=\"text-align: right;\">\n",
              "      <th></th>\n",
              "      <th>id</th>\n",
              "      <th>sample</th>\n",
              "      <th>label</th>\n",
              "    </tr>\n",
              "  </thead>\n",
              "  <tbody>\n",
              "    <tr>\n",
              "      <th>0</th>\n",
              "      <td>0</td>\n",
              "      <td>czy wspólnota mieszkaniowa może podjąć uchwałę...</td>\n",
              "      <td>prawo cywilne</td>\n",
              "    </tr>\n",
              "    <tr>\n",
              "      <th>1</th>\n",
              "      <td>1</td>\n",
              "      <td>czy wspólnota mieszkaniowa może odzyskać pomie...</td>\n",
              "      <td>prawo cywilne</td>\n",
              "    </tr>\n",
              "    <tr>\n",
              "      <th>2</th>\n",
              "      <td>2</td>\n",
              "      <td>czy uprawnienie mieszkańców wspólnoty mieszkan...</td>\n",
              "      <td>prawo administracyjne</td>\n",
              "    </tr>\n",
              "    <tr>\n",
              "      <th>3</th>\n",
              "      <td>3</td>\n",
              "      <td>czy budowa windy dla osób niepełnosprawnych mo...</td>\n",
              "      <td>prawo administracyjne</td>\n",
              "    </tr>\n",
              "    <tr>\n",
              "      <th>4</th>\n",
              "      <td>4</td>\n",
              "      <td>jakie czynności powinna podjąć wspólnota miesz...</td>\n",
              "      <td>prawo cywilne</td>\n",
              "    </tr>\n",
              "  </tbody>\n",
              "</table>\n",
              "</div>\n",
              "    <div class=\"colab-df-buttons\">\n",
              "\n",
              "  <div class=\"colab-df-container\">\n",
              "    <button class=\"colab-df-convert\" onclick=\"convertToInteractive('df-689fde7f-35eb-4c29-b2bd-89f0bc6b393a')\"\n",
              "            title=\"Convert this dataframe to an interactive table.\"\n",
              "            style=\"display:none;\">\n",
              "\n",
              "  <svg xmlns=\"http://www.w3.org/2000/svg\" height=\"24px\" viewBox=\"0 -960 960 960\">\n",
              "    <path d=\"M120-120v-720h720v720H120Zm60-500h600v-160H180v160Zm220 220h160v-160H400v160Zm0 220h160v-160H400v160ZM180-400h160v-160H180v160Zm440 0h160v-160H620v160ZM180-180h160v-160H180v160Zm440 0h160v-160H620v160Z\"/>\n",
              "  </svg>\n",
              "    </button>\n",
              "\n",
              "  <style>\n",
              "    .colab-df-container {\n",
              "      display:flex;\n",
              "      gap: 12px;\n",
              "    }\n",
              "\n",
              "    .colab-df-convert {\n",
              "      background-color: #E8F0FE;\n",
              "      border: none;\n",
              "      border-radius: 50%;\n",
              "      cursor: pointer;\n",
              "      display: none;\n",
              "      fill: #1967D2;\n",
              "      height: 32px;\n",
              "      padding: 0 0 0 0;\n",
              "      width: 32px;\n",
              "    }\n",
              "\n",
              "    .colab-df-convert:hover {\n",
              "      background-color: #E2EBFA;\n",
              "      box-shadow: 0px 1px 2px rgba(60, 64, 67, 0.3), 0px 1px 3px 1px rgba(60, 64, 67, 0.15);\n",
              "      fill: #174EA6;\n",
              "    }\n",
              "\n",
              "    .colab-df-buttons div {\n",
              "      margin-bottom: 4px;\n",
              "    }\n",
              "\n",
              "    [theme=dark] .colab-df-convert {\n",
              "      background-color: #3B4455;\n",
              "      fill: #D2E3FC;\n",
              "    }\n",
              "\n",
              "    [theme=dark] .colab-df-convert:hover {\n",
              "      background-color: #434B5C;\n",
              "      box-shadow: 0px 1px 3px 1px rgba(0, 0, 0, 0.15);\n",
              "      filter: drop-shadow(0px 1px 2px rgba(0, 0, 0, 0.3));\n",
              "      fill: #FFFFFF;\n",
              "    }\n",
              "  </style>\n",
              "\n",
              "    <script>\n",
              "      const buttonEl =\n",
              "        document.querySelector('#df-689fde7f-35eb-4c29-b2bd-89f0bc6b393a button.colab-df-convert');\n",
              "      buttonEl.style.display =\n",
              "        google.colab.kernel.accessAllowed ? 'block' : 'none';\n",
              "\n",
              "      async function convertToInteractive(key) {\n",
              "        const element = document.querySelector('#df-689fde7f-35eb-4c29-b2bd-89f0bc6b393a');\n",
              "        const dataTable =\n",
              "          await google.colab.kernel.invokeFunction('convertToInteractive',\n",
              "                                                    [key], {});\n",
              "        if (!dataTable) return;\n",
              "\n",
              "        const docLinkHtml = 'Like what you see? Visit the ' +\n",
              "          '<a target=\"_blank\" href=https://colab.research.google.com/notebooks/data_table.ipynb>data table notebook</a>'\n",
              "          + ' to learn more about interactive tables.';\n",
              "        element.innerHTML = '';\n",
              "        dataTable['output_type'] = 'display_data';\n",
              "        await google.colab.output.renderOutput(dataTable, element);\n",
              "        const docLink = document.createElement('div');\n",
              "        docLink.innerHTML = docLinkHtml;\n",
              "        element.appendChild(docLink);\n",
              "      }\n",
              "    </script>\n",
              "  </div>\n",
              "\n",
              "\n",
              "<div id=\"df-197c0a05-6983-4d91-965e-461709c382a0\">\n",
              "  <button class=\"colab-df-quickchart\" onclick=\"quickchart('df-197c0a05-6983-4d91-965e-461709c382a0')\"\n",
              "            title=\"Suggest charts.\"\n",
              "            style=\"display:none;\">\n",
              "\n",
              "<svg xmlns=\"http://www.w3.org/2000/svg\" height=\"24px\"viewBox=\"0 0 24 24\"\n",
              "     width=\"24px\">\n",
              "    <g>\n",
              "        <path d=\"M19 3H5c-1.1 0-2 .9-2 2v14c0 1.1.9 2 2 2h14c1.1 0 2-.9 2-2V5c0-1.1-.9-2-2-2zM9 17H7v-7h2v7zm4 0h-2V7h2v10zm4 0h-2v-4h2v4z\"/>\n",
              "    </g>\n",
              "</svg>\n",
              "  </button>\n",
              "\n",
              "<style>\n",
              "  .colab-df-quickchart {\n",
              "      --bg-color: #E8F0FE;\n",
              "      --fill-color: #1967D2;\n",
              "      --hover-bg-color: #E2EBFA;\n",
              "      --hover-fill-color: #174EA6;\n",
              "      --disabled-fill-color: #AAA;\n",
              "      --disabled-bg-color: #DDD;\n",
              "  }\n",
              "\n",
              "  [theme=dark] .colab-df-quickchart {\n",
              "      --bg-color: #3B4455;\n",
              "      --fill-color: #D2E3FC;\n",
              "      --hover-bg-color: #434B5C;\n",
              "      --hover-fill-color: #FFFFFF;\n",
              "      --disabled-bg-color: #3B4455;\n",
              "      --disabled-fill-color: #666;\n",
              "  }\n",
              "\n",
              "  .colab-df-quickchart {\n",
              "    background-color: var(--bg-color);\n",
              "    border: none;\n",
              "    border-radius: 50%;\n",
              "    cursor: pointer;\n",
              "    display: none;\n",
              "    fill: var(--fill-color);\n",
              "    height: 32px;\n",
              "    padding: 0;\n",
              "    width: 32px;\n",
              "  }\n",
              "\n",
              "  .colab-df-quickchart:hover {\n",
              "    background-color: var(--hover-bg-color);\n",
              "    box-shadow: 0 1px 2px rgba(60, 64, 67, 0.3), 0 1px 3px 1px rgba(60, 64, 67, 0.15);\n",
              "    fill: var(--button-hover-fill-color);\n",
              "  }\n",
              "\n",
              "  .colab-df-quickchart-complete:disabled,\n",
              "  .colab-df-quickchart-complete:disabled:hover {\n",
              "    background-color: var(--disabled-bg-color);\n",
              "    fill: var(--disabled-fill-color);\n",
              "    box-shadow: none;\n",
              "  }\n",
              "\n",
              "  .colab-df-spinner {\n",
              "    border: 2px solid var(--fill-color);\n",
              "    border-color: transparent;\n",
              "    border-bottom-color: var(--fill-color);\n",
              "    animation:\n",
              "      spin 1s steps(1) infinite;\n",
              "  }\n",
              "\n",
              "  @keyframes spin {\n",
              "    0% {\n",
              "      border-color: transparent;\n",
              "      border-bottom-color: var(--fill-color);\n",
              "      border-left-color: var(--fill-color);\n",
              "    }\n",
              "    20% {\n",
              "      border-color: transparent;\n",
              "      border-left-color: var(--fill-color);\n",
              "      border-top-color: var(--fill-color);\n",
              "    }\n",
              "    30% {\n",
              "      border-color: transparent;\n",
              "      border-left-color: var(--fill-color);\n",
              "      border-top-color: var(--fill-color);\n",
              "      border-right-color: var(--fill-color);\n",
              "    }\n",
              "    40% {\n",
              "      border-color: transparent;\n",
              "      border-right-color: var(--fill-color);\n",
              "      border-top-color: var(--fill-color);\n",
              "    }\n",
              "    60% {\n",
              "      border-color: transparent;\n",
              "      border-right-color: var(--fill-color);\n",
              "    }\n",
              "    80% {\n",
              "      border-color: transparent;\n",
              "      border-right-color: var(--fill-color);\n",
              "      border-bottom-color: var(--fill-color);\n",
              "    }\n",
              "    90% {\n",
              "      border-color: transparent;\n",
              "      border-bottom-color: var(--fill-color);\n",
              "    }\n",
              "  }\n",
              "</style>\n",
              "\n",
              "  <script>\n",
              "    async function quickchart(key) {\n",
              "      const quickchartButtonEl =\n",
              "        document.querySelector('#' + key + ' button');\n",
              "      quickchartButtonEl.disabled = true;  // To prevent multiple clicks.\n",
              "      quickchartButtonEl.classList.add('colab-df-spinner');\n",
              "      try {\n",
              "        const charts = await google.colab.kernel.invokeFunction(\n",
              "            'suggestCharts', [key], {});\n",
              "      } catch (error) {\n",
              "        console.error('Error during call to suggestCharts:', error);\n",
              "      }\n",
              "      quickchartButtonEl.classList.remove('colab-df-spinner');\n",
              "      quickchartButtonEl.classList.add('colab-df-quickchart-complete');\n",
              "    }\n",
              "    (() => {\n",
              "      let quickchartButtonEl =\n",
              "        document.querySelector('#df-197c0a05-6983-4d91-965e-461709c382a0 button');\n",
              "      quickchartButtonEl.style.display =\n",
              "        google.colab.kernel.accessAllowed ? 'block' : 'none';\n",
              "    })();\n",
              "  </script>\n",
              "</div>\n",
              "    </div>\n",
              "  </div>\n"
            ]
          },
          "metadata": {},
          "execution_count": 12
        }
      ]
    },
    {
      "cell_type": "markdown",
      "source": [
        "### Eksploracja danych"
      ],
      "metadata": {
        "id": "BMGqffCLCewm"
      }
    },
    {
      "cell_type": "markdown",
      "source": [
        "#### Dystybucja klas"
      ],
      "metadata": {
        "id": "FTBoY6LACyn5"
      }
    },
    {
      "cell_type": "code",
      "source": [
        "g = sns.countplot(x = 'label', data = df)\n",
        "g.set_xticklabels(g.get_xticklabels(), rotation=90)"
      ],
      "metadata": {
        "colab": {
          "base_uri": "https://localhost:8080/",
          "height": 734
        },
        "id": "dkHLa-h4C0Zq",
        "outputId": "7e4d7108-8a2e-4e02-85f0-f4b23f10abf3"
      },
      "execution_count": null,
      "outputs": [
        {
          "output_type": "execute_result",
          "data": {
            "text/plain": [
              "[Text(0, 0, 'prawo cywilne'),\n",
              " Text(1, 0, 'prawo administracyjne'),\n",
              " Text(2, 0, 'prawo farmaceutyczne'),\n",
              " Text(3, 0, 'prawo pracy'),\n",
              " Text(4, 0, 'prawo medyczne'),\n",
              " Text(5, 0, 'prawo karne'),\n",
              " Text(6, 0, 'inne'),\n",
              " Text(7, 0, 'prawo podatkowe')]"
            ]
          },
          "metadata": {},
          "execution_count": 13
        },
        {
          "output_type": "display_data",
          "data": {
            "text/plain": [
              "<Figure size 640x480 with 1 Axes>"
            ],
            "image/png": "[encoded data removed]"
          },
          "metadata": {}
        }
      ]
    },
    {
      "cell_type": "markdown",
      "source": [
        "#### Wartości brakujące"
      ],
      "metadata": {
        "id": "c0EfaWgKFHoW"
      }
    },
    {
      "cell_type": "code",
      "source": [
        "print(df.isna().sum())\n",
        "print(f'Samples before cleanup: {len(df)}')\n",
        "df = df[df['sample'].notnull()]\n",
        "print(f'Samples after removing null sample values: {len(df)}')"
      ],
      "metadata": {
        "colab": {
          "base_uri": "https://localhost:8080/"
        },
        "id": "NxG0D4yrClZz",
        "outputId": "d127a880-1bb6-4107-ac2a-1344493067ab"
      },
      "execution_count": null,
      "outputs": [
        {
          "output_type": "stream",
          "name": "stdout",
          "text": [
            "id        0\n",
            "sample    2\n",
            "label     0\n",
            "dtype: int64\n",
            "Samples before cleanup: 2721\n",
            "Samples after removing null sample values: 2719\n"
          ]
        }
      ]
    },
    {
      "cell_type": "markdown",
      "source": [
        "### Pre-processing dokumentów"
      ],
      "metadata": {
        "id": "qdsqyusWFW9U"
      }
    },
    {
      "cell_type": "markdown",
      "source": [
        "#### Usunięcie znaków specjalnych itp."
      ],
      "metadata": {
        "id": "s9lHU4JyFzyl"
      }
    },
    {
      "cell_type": "code",
      "source": [
        "# zamiana liter na małe, usunięcie dodatkowych spacji, usunięcie interpunkcji\n",
        "def preprocess(text):\n",
        "  text = text.lower()\n",
        "  text = text.strip()\n",
        "  text = re.compile('<.*?>').sub('', text)\n",
        "  text = re.compile('[%s]' % re.escape(string.punctuation)).sub('', text)\n",
        "  text = re.sub('\\s+', ' ', text)\n",
        "  text = re.sub(r'\\[[0-9]*\\]',' ',text)\n",
        "  text=re.sub(r'[^\\w\\s]', '', str(text).lower().strip())\n",
        "  text = re.sub(r'\\d',' ',text)\n",
        "  text = re.sub(r'\\s+',' ',text)\n",
        "  return text"
      ],
      "metadata": {
        "id": "-xyrID2dGMH4"
      },
      "execution_count": null,
      "outputs": []
    },
    {
      "cell_type": "markdown",
      "source": [
        "### Usunięcie stop-words"
      ],
      "metadata": {
        "id": "ISHr72e7F36Y"
      }
    },
    {
      "cell_type": "code",
      "source": [
        "# usunięcie słów ze słownika stop-words\n",
        "def stopword_removal(string):\n",
        "  a= [i for i in string.split() if i not in stopwords.words('polish')]\n",
        "  return ' '.join(a)"
      ],
      "metadata": {
        "id": "4PULmx__Gv4y"
      },
      "execution_count": null,
      "outputs": []
    },
    {
      "cell_type": "markdown",
      "source": [
        "### Lemmatization"
      ],
      "metadata": {
        "id": "bYHwwwpdGAWY"
      }
    },
    {
      "cell_type": "code",
      "source": [
        "morf = morfeusz2.Morfeusz()\n",
        "def lemmatizer(string):\n",
        "  text = \"\"\n",
        "  for word in string.split():\n",
        "    analysis = morf.analyse(word)\n",
        "    text = text + analysis[0][2][1].split(':')[0] + \" \"\n",
        "  return text[:-2]"
      ],
      "metadata": {
        "id": "dFP8--9EHL2P"
      },
      "execution_count": null,
      "outputs": []
    },
    {
      "cell_type": "markdown",
      "source": [
        "#### Rezultat pre-processingu"
      ],
      "metadata": {
        "id": "YUBbOTB1HVyW"
      }
    },
    {
      "cell_type": "code",
      "source": [
        "def finalpreprocess(string):\n",
        "  return lemmatizer(stopword_removal(preprocess(string)))"
      ],
      "metadata": {
        "id": "ISUQURcwHYil"
      },
      "execution_count": null,
      "outputs": []
    },
    {
      "cell_type": "code",
      "source": [
        "df['clean_sample'] = df['sample'].apply(lambda x: finalpreprocess(x))\n",
        "df.head()"
      ],
      "metadata": {
        "colab": {
          "base_uri": "https://localhost:8080/",
          "height": 206
        },
        "id": "p6eFbmgOHgau",
        "outputId": "862bb8d8-4dca-4577-94f2-011775a2eaf3"
      },
      "execution_count": null,
      "outputs": [
        {
          "output_type": "execute_result",
          "data": {
            "text/plain": [
              "   id                                             sample  \\\n",
              "0   0  czy wspólnota mieszkaniowa może podjąć uchwałę...   \n",
              "1   1  czy wspólnota mieszkaniowa może odzyskać pomie...   \n",
              "2   2  czy uprawnienie mieszkańców wspólnoty mieszkan...   \n",
              "3   3  czy budowa windy dla osób niepełnosprawnych mo...   \n",
              "4   4  jakie czynności powinna podjąć wspólnota miesz...   \n",
              "\n",
              "                   label                                       clean_sample  \n",
              "0          prawo cywilne  wspólnota mieszkaniowy podjąć uchwała dotyczyć...  \n",
              "1          prawo cywilne  wspólnota mieszkaniowy odzyskać pomieścić gosp...  \n",
              "2  prawo administracyjne  uprawnić mieszkaniec wspólnota mieszkaniowy zg...  \n",
              "3  prawo administracyjne  budowa winda osoba niepełnosprawny zostać zakw...  \n",
              "4          prawo cywilne  czynność podjąć wspólnota mieszkaniowy założen...  "
            ],
            "text/html": [
              "\n",
              "  <div id=\"df-a11d9ad5-f30d-451a-9610-db0f33b2c8d5\" class=\"colab-df-container\">\n",
              "    <div>\n",
              "<style scoped>\n",
              "    .dataframe tbody tr th:only-of-type {\n",
              "        vertical-align: middle;\n",
              "    }\n",
              "\n",
              "    .dataframe tbody tr th {\n",
              "        vertical-align: top;\n",
              "    }\n",
              "\n",
              "    .dataframe thead th {\n",
              "        text-align: right;\n",
              "    }\n",
              "</style>\n",
              "<table border=\"1\" class=\"dataframe\">\n",
              "  <thead>\n",
              "    <tr style=\"text-align: right;\">\n",
              "      <th></th>\n",
              "      <th>id</th>\n",
              "      <th>sample</th>\n",
              "      <th>label</th>\n",
              "      <th>clean_sample</th>\n",
              "    </tr>\n",
              "  </thead>\n",
              "  <tbody>\n",
              "    <tr>\n",
              "      <th>0</th>\n",
              "      <td>0</td>\n",
              "      <td>czy wspólnota mieszkaniowa może podjąć uchwałę...</td>\n",
              "      <td>prawo cywilne</td>\n",
              "      <td>wspólnota mieszkaniowy podjąć uchwała dotyczyć...</td>\n",
              "    </tr>\n",
              "    <tr>\n",
              "      <th>1</th>\n",
              "      <td>1</td>\n",
              "      <td>czy wspólnota mieszkaniowa może odzyskać pomie...</td>\n",
              "      <td>prawo cywilne</td>\n",
              "      <td>wspólnota mieszkaniowy odzyskać pomieścić gosp...</td>\n",
              "    </tr>\n",
              "    <tr>\n",
              "      <th>2</th>\n",
              "      <td>2</td>\n",
              "      <td>czy uprawnienie mieszkańców wspólnoty mieszkan...</td>\n",
              "      <td>prawo administracyjne</td>\n",
              "      <td>uprawnić mieszkaniec wspólnota mieszkaniowy zg...</td>\n",
              "    </tr>\n",
              "    <tr>\n",
              "      <th>3</th>\n",
              "      <td>3</td>\n",
              "      <td>czy budowa windy dla osób niepełnosprawnych mo...</td>\n",
              "      <td>prawo administracyjne</td>\n",
              "      <td>budowa winda osoba niepełnosprawny zostać zakw...</td>\n",
              "    </tr>\n",
              "    <tr>\n",
              "      <th>4</th>\n",
              "      <td>4</td>\n",
              "      <td>jakie czynności powinna podjąć wspólnota miesz...</td>\n",
              "      <td>prawo cywilne</td>\n",
              "      <td>czynność podjąć wspólnota mieszkaniowy założen...</td>\n",
              "    </tr>\n",
              "  </tbody>\n",
              "</table>\n",
              "</div>\n",
              "    <div class=\"colab-df-buttons\">\n",
              "\n",
              "  <div class=\"colab-df-container\">\n",
              "    <button class=\"colab-df-convert\" onclick=\"convertToInteractive('df-a11d9ad5-f30d-451a-9610-db0f33b2c8d5')\"\n",
              "            title=\"Convert this dataframe to an interactive table.\"\n",
              "            style=\"display:none;\">\n",
              "\n",
              "  <svg xmlns=\"http://www.w3.org/2000/svg\" height=\"24px\" viewBox=\"0 -960 960 960\">\n",
              "    <path d=\"M120-120v-720h720v720H120Zm60-500h600v-160H180v160Zm220 220h160v-160H400v160Zm0 220h160v-160H400v160ZM180-400h160v-160H180v160Zm440 0h160v-160H620v160ZM180-180h160v-160H180v160Zm440 0h160v-160H620v160Z\"/>\n",
              "  </svg>\n",
              "    </button>\n",
              "\n",
              "  <style>\n",
              "    .colab-df-container {\n",
              "      display:flex;\n",
              "      gap: 12px;\n",
              "    }\n",
              "\n",
              "    .colab-df-convert {\n",
              "      background-color: #E8F0FE;\n",
              "      border: none;\n",
              "      border-radius: 50%;\n",
              "      cursor: pointer;\n",
              "      display: none;\n",
              "      fill: #1967D2;\n",
              "      height: 32px;\n",
              "      padding: 0 0 0 0;\n",
              "      width: 32px;\n",
              "    }\n",
              "\n",
              "    .colab-df-convert:hover {\n",
              "      background-color: #E2EBFA;\n",
              "      box-shadow: 0px 1px 2px rgba(60, 64, 67, 0.3), 0px 1px 3px 1px rgba(60, 64, 67, 0.15);\n",
              "      fill: #174EA6;\n",
              "    }\n",
              "\n",
              "    .colab-df-buttons div {\n",
              "      margin-bottom: 4px;\n",
              "    }\n",
              "\n",
              "    [theme=dark] .colab-df-convert {\n",
              "      background-color: #3B4455;\n",
              "      fill: #D2E3FC;\n",
              "    }\n",
              "\n",
              "    [theme=dark] .colab-df-convert:hover {\n",
              "      background-color: #434B5C;\n",
              "      box-shadow: 0px 1px 3px 1px rgba(0, 0, 0, 0.15);\n",
              "      filter: drop-shadow(0px 1px 2px rgba(0, 0, 0, 0.3));\n",
              "      fill: #FFFFFF;\n",
              "    }\n",
              "  </style>\n",
              "\n",
              "    <script>\n",
              "      const buttonEl =\n",
              "        document.querySelector('#df-a11d9ad5-f30d-451a-9610-db0f33b2c8d5 button.colab-df-convert');\n",
              "      buttonEl.style.display =\n",
              "        google.colab.kernel.accessAllowed ? 'block' : 'none';\n",
              "\n",
              "      async function convertToInteractive(key) {\n",
              "        const element = document.querySelector('#df-a11d9ad5-f30d-451a-9610-db0f33b2c8d5');\n",
              "        const dataTable =\n",
              "          await google.colab.kernel.invokeFunction('convertToInteractive',\n",
              "                                                    [key], {});\n",
              "        if (!dataTable) return;\n",
              "\n",
              "        const docLinkHtml = 'Like what you see? Visit the ' +\n",
              "          '<a target=\"_blank\" href=https://colab.research.google.com/notebooks/data_table.ipynb>data table notebook</a>'\n",
              "          + ' to learn more about interactive tables.';\n",
              "        element.innerHTML = '';\n",
              "        dataTable['output_type'] = 'display_data';\n",
              "        await google.colab.output.renderOutput(dataTable, element);\n",
              "        const docLink = document.createElement('div');\n",
              "        docLink.innerHTML = docLinkHtml;\n",
              "        element.appendChild(docLink);\n",
              "      }\n",
              "    </script>\n",
              "  </div>\n",
              "\n",
              "\n",
              "<div id=\"df-e95abfb0-8199-4a1f-b5a0-f972c070b258\">\n",
              "  <button class=\"colab-df-quickchart\" onclick=\"quickchart('df-e95abfb0-8199-4a1f-b5a0-f972c070b258')\"\n",
              "            title=\"Suggest charts.\"\n",
              "            style=\"display:none;\">\n",
              "\n",
              "<svg xmlns=\"http://www.w3.org/2000/svg\" height=\"24px\"viewBox=\"0 0 24 24\"\n",
              "     width=\"24px\">\n",
              "    <g>\n",
              "        <path d=\"M19 3H5c-1.1 0-2 .9-2 2v14c0 1.1.9 2 2 2h14c1.1 0 2-.9 2-2V5c0-1.1-.9-2-2-2zM9 17H7v-7h2v7zm4 0h-2V7h2v10zm4 0h-2v-4h2v4z\"/>\n",
              "    </g>\n",
              "</svg>\n",
              "  </button>\n",
              "\n",
              "<style>\n",
              "  .colab-df-quickchart {\n",
              "      --bg-color: #E8F0FE;\n",
              "      --fill-color: #1967D2;\n",
              "      --hover-bg-color: #E2EBFA;\n",
              "      --hover-fill-color: #174EA6;\n",
              "      --disabled-fill-color: #AAA;\n",
              "      --disabled-bg-color: #DDD;\n",
              "  }\n",
              "\n",
              "  [theme=dark] .colab-df-quickchart {\n",
              "      --bg-color: #3B4455;\n",
              "      --fill-color: #D2E3FC;\n",
              "      --hover-bg-color: #434B5C;\n",
              "      --hover-fill-color: #FFFFFF;\n",
              "      --disabled-bg-color: #3B4455;\n",
              "      --disabled-fill-color: #666;\n",
              "  }\n",
              "\n",
              "  .colab-df-quickchart {\n",
              "    background-color: var(--bg-color);\n",
              "    border: none;\n",
              "    border-radius: 50%;\n",
              "    cursor: pointer;\n",
              "    display: none;\n",
              "    fill: var(--fill-color);\n",
              "    height: 32px;\n",
              "    padding: 0;\n",
              "    width: 32px;\n",
              "  }\n",
              "\n",
              "  .colab-df-quickchart:hover {\n",
              "    background-color: var(--hover-bg-color);\n",
              "    box-shadow: 0 1px 2px rgba(60, 64, 67, 0.3), 0 1px 3px 1px rgba(60, 64, 67, 0.15);\n",
              "    fill: var(--button-hover-fill-color);\n",
              "  }\n",
              "\n",
              "  .colab-df-quickchart-complete:disabled,\n",
              "  .colab-df-quickchart-complete:disabled:hover {\n",
              "    background-color: var(--disabled-bg-color);\n",
              "    fill: var(--disabled-fill-color);\n",
              "    box-shadow: none;\n",
              "  }\n",
              "\n",
              "  .colab-df-spinner {\n",
              "    border: 2px solid var(--fill-color);\n",
              "    border-color: transparent;\n",
              "    border-bottom-color: var(--fill-color);\n",
              "    animation:\n",
              "      spin 1s steps(1) infinite;\n",
              "  }\n",
              "\n",
              "  @keyframes spin {\n",
              "    0% {\n",
              "      border-color: transparent;\n",
              "      border-bottom-color: var(--fill-color);\n",
              "      border-left-color: var(--fill-color);\n",
              "    }\n",
              "    20% {\n",
              "      border-color: transparent;\n",
              "      border-left-color: var(--fill-color);\n",
              "      border-top-color: var(--fill-color);\n",
              "    }\n",
              "    30% {\n",
              "      border-color: transparent;\n",
              "      border-left-color: var(--fill-color);\n",
              "      border-top-color: var(--fill-color);\n",
              "      border-right-color: var(--fill-color);\n",
              "    }\n",
              "    40% {\n",
              "      border-color: transparent;\n",
              "      border-right-color: var(--fill-color);\n",
              "      border-top-color: var(--fill-color);\n",
              "    }\n",
              "    60% {\n",
              "      border-color: transparent;\n",
              "      border-right-color: var(--fill-color);\n",
              "    }\n",
              "    80% {\n",
              "      border-color: transparent;\n",
              "      border-right-color: var(--fill-color);\n",
              "      border-bottom-color: var(--fill-color);\n",
              "    }\n",
              "    90% {\n",
              "      border-color: transparent;\n",
              "      border-bottom-color: var(--fill-color);\n",
              "    }\n",
              "  }\n",
              "</style>\n",
              "\n",
              "  <script>\n",
              "    async function quickchart(key) {\n",
              "      const quickchartButtonEl =\n",
              "        document.querySelector('#' + key + ' button');\n",
              "      quickchartButtonEl.disabled = true;  // To prevent multiple clicks.\n",
              "      quickchartButtonEl.classList.add('colab-df-spinner');\n",
              "      try {\n",
              "        const charts = await google.colab.kernel.invokeFunction(\n",
              "            'suggestCharts', [key], {});\n",
              "      } catch (error) {\n",
              "        console.error('Error during call to suggestCharts:', error);\n",
              "      }\n",
              "      quickchartButtonEl.classList.remove('colab-df-spinner');\n",
              "      quickchartButtonEl.classList.add('colab-df-quickchart-complete');\n",
              "    }\n",
              "    (() => {\n",
              "      let quickchartButtonEl =\n",
              "        document.querySelector('#df-e95abfb0-8199-4a1f-b5a0-f972c070b258 button');\n",
              "      quickchartButtonEl.style.display =\n",
              "        google.colab.kernel.accessAllowed ? 'block' : 'none';\n",
              "    })();\n",
              "  </script>\n",
              "</div>\n",
              "    </div>\n",
              "  </div>\n"
            ]
          },
          "metadata": {},
          "execution_count": 19
        }
      ]
    },
    {
      "cell_type": "markdown",
      "source": [
        "### Trenowanie modelu klasyfikacji dokumentów"
      ],
      "metadata": {
        "id": "NAURR8AweckE"
      }
    },
    {
      "cell_type": "markdown",
      "source": [
        "#### Splity danych"
      ],
      "metadata": {
        "id": "LO643ekyegG4"
      }
    },
    {
      "cell_type": "code",
      "source": [
        "X_train, X_test, y_train, y_test = train_test_split(df[\"clean_sample\"],df[\"label\"],test_size=0.2,shuffle=True)"
      ],
      "metadata": {
        "id": "rbMoZUeAZV79"
      },
      "execution_count": null,
      "outputs": []
    },
    {
      "cell_type": "markdown",
      "source": [
        "#### Model z wykorzystaniem danych zwektorayzowanych na podstawie bag-of-words"
      ],
      "metadata": {
        "id": "QrPrYX3Dehwr"
      }
    },
    {
      "cell_type": "code",
      "source": [
        "tfidf_vectorizer = TfidfVectorizer(use_idf=True)\n",
        "X_train_vectors_tfidf = tfidf_vectorizer.fit_transform(X_train)\n",
        "X_test_vectors_tfidf = tfidf_vectorizer.transform(X_test)"
      ],
      "metadata": {
        "id": "NkmiCf7edYp4"
      },
      "execution_count": null,
      "outputs": []
    },
    {
      "cell_type": "code",
      "source": [
        "X_train_vectors_tfidf[0].shape"
      ],
      "metadata": {
        "id": "FqLSW9nH1DHM",
        "colab": {
          "base_uri": "https://localhost:8080/"
        },
        "outputId": "4fd1575e-5edf-4247-c740-4dca64f1c31a"
      },
      "execution_count": null,
      "outputs": [
        {
          "output_type": "execute_result",
          "data": {
            "text/plain": [
              "(1, 4149)"
            ]
          },
          "metadata": {},
          "execution_count": 23
        }
      ]
    },
    {
      "cell_type": "code",
      "source": [
        "lr_tfidf=LogisticRegression(solver = 'liblinear', C=10, penalty = 'l2')\n",
        "lr_tfidf.fit(X_train_vectors_tfidf, y_train)\n",
        "\n",
        "y_predict = lr_tfidf.predict(X_test_vectors_tfidf)\n",
        "y_prob = lr_tfidf.predict_proba(X_test_vectors_tfidf)[:,1]\n",
        "print(classification_report(y_test,y_predict))\n",
        "print('Confusion Matrix:',confusion_matrix(y_test, y_predict))"
      ],
      "metadata": {
        "id": "tfNgVM7zdfdB",
        "colab": {
          "base_uri": "https://localhost:8080/"
        },
        "outputId": "0378568f-3f2a-4b07-c767-5e4dbcdbab8b"
      },
      "execution_count": null,
      "outputs": [
        {
          "output_type": "stream",
          "name": "stdout",
          "text": [
            "                       precision    recall  f1-score   support\n",
            "\n",
            "                 inne       0.80      0.36      0.50        11\n",
            "prawo administracyjne       0.60      0.43      0.50        49\n",
            "        prawo cywilne       0.70      0.80      0.74       115\n",
            " prawo farmaceutyczne       0.78      0.71      0.75        56\n",
            "          prawo karne       0.43      0.28      0.34        36\n",
            "       prawo medyczne       0.71      0.77      0.74       171\n",
            "      prawo podatkowe       0.14      0.10      0.12        10\n",
            "          prawo pracy       0.75      0.82      0.79        96\n",
            "\n",
            "             accuracy                           0.70       544\n",
            "            macro avg       0.62      0.53      0.56       544\n",
            "         weighted avg       0.69      0.70      0.69       544\n",
            "\n",
            "Confusion Matrix: [[  4   0   1   1   0   4   0   1]\n",
            " [  0  21   9   1   4   9   1   4]\n",
            " [  0   7  92   2   7   5   0   2]\n",
            " [  0   0   3  40   0   8   1   4]\n",
            " [  0   1  10   0  10  12   0   3]\n",
            " [  1   2  13   6   2 132   3  12]\n",
            " [  0   2   2   1   0   4   1   0]\n",
            " [  0   2   2   0   0  12   1  79]]\n"
          ]
        }
      ]
    },
    {
      "cell_type": "code",
      "source": [
        "from sklearn import svm\n",
        "svm_tfidf = svm.SVC(probability=True)\n",
        "svm_tfidf.fit(X_train_vectors_tfidf, y_train)\n",
        "\n",
        "y_predict = svm_tfidf.predict(X_test_vectors_tfidf)\n",
        "y_prob = svm_tfidf.predict_proba(X_test_vectors_tfidf)[:,1]\n",
        "print(classification_report(y_test,y_predict))\n",
        "print('Confusion Matrix:',confusion_matrix(y_test, y_predict))"
      ],
      "metadata": {
        "id": "IyKCXF4ZKt3a",
        "colab": {
          "base_uri": "https://localhost:8080/"
        },
        "outputId": "e35d15d1-383b-4060-cc59-a651e5db6b5c"
      },
      "execution_count": null,
      "outputs": [
        {
          "output_type": "stream",
          "name": "stdout",
          "text": [
            "                       precision    recall  f1-score   support\n",
            "\n",
            "                 inne       0.00      0.00      0.00        11\n",
            "prawo administracyjne       0.77      0.20      0.32        49\n",
            "        prawo cywilne       0.74      0.83      0.78       115\n",
            " prawo farmaceutyczne       0.80      0.66      0.73        56\n",
            "          prawo karne       0.54      0.19      0.29        36\n",
            "       prawo medyczne       0.61      0.88      0.72       171\n",
            "      prawo podatkowe       0.33      0.10      0.15        10\n",
            "          prawo pracy       0.82      0.80      0.81        96\n",
            "\n",
            "             accuracy                           0.69       544\n",
            "            macro avg       0.58      0.46      0.48       544\n",
            "         weighted avg       0.69      0.69      0.66       544\n",
            "\n",
            "Confusion Matrix: [[  0   0   0   1   0  10   0   0]\n",
            " [  0  10  13   1   1  21   0   3]\n",
            " [  0   2  95   2   4  10   0   2]\n",
            " [  0   0   2  37   0  14   0   3]\n",
            " [  0   0  10   0   7  17   0   2]\n",
            " [  0   0   6   4   1 151   2   7]\n",
            " [  0   0   1   1   0   7   1   0]\n",
            " [  0   1   2   0   0  16   0  77]]\n"
          ]
        },
        {
          "output_type": "stream",
          "name": "stderr",
          "text": [
            "/usr/local/lib/python3.10/dist-packages/sklearn/metrics/_classification.py:1344: UndefinedMetricWarning: Precision and F-score are ill-defined and being set to 0.0 in labels with no predicted samples. Use `zero_division` parameter to control this behavior.\n",
            "  _warn_prf(average, modifier, msg_start, len(result))\n",
            "/usr/local/lib/python3.10/dist-packages/sklearn/metrics/_classification.py:1344: UndefinedMetricWarning: Precision and F-score are ill-defined and being set to 0.0 in labels with no predicted samples. Use `zero_division` parameter to control this behavior.\n",
            "  _warn_prf(average, modifier, msg_start, len(result))\n",
            "/usr/local/lib/python3.10/dist-packages/sklearn/metrics/_classification.py:1344: UndefinedMetricWarning: Precision and F-score are ill-defined and being set to 0.0 in labels with no predicted samples. Use `zero_division` parameter to control this behavior.\n",
            "  _warn_prf(average, modifier, msg_start, len(result))\n"
          ]
        }
      ]
    },
    {
      "cell_type": "code",
      "source": [
        "from sklearn import tree\n",
        "tree_tfidf = tree.DecisionTreeClassifier()\n",
        "tree_tfidf.fit(X_train_vectors_tfidf, y_train)\n",
        "\n",
        "y_predict = tree_tfidf.predict(X_test_vectors_tfidf)\n",
        "y_prob = tree_tfidf.predict_proba(X_test_vectors_tfidf)[:,1]\n",
        "print(classification_report(y_test,y_predict))\n",
        "print('Confusion Matrix:',confusion_matrix(y_test, y_predict))"
      ],
      "metadata": {
        "id": "vfo31LqRMEbf",
        "colab": {
          "base_uri": "https://localhost:8080/"
        },
        "outputId": "06c1e6c7-72a2-4192-c44d-4edda8020d11"
      },
      "execution_count": null,
      "outputs": [
        {
          "output_type": "stream",
          "name": "stdout",
          "text": [
            "                       precision    recall  f1-score   support\n",
            "\n",
            "                 inne       0.00      0.00      0.00        11\n",
            "prawo administracyjne       0.35      0.39      0.37        49\n",
            "        prawo cywilne       0.75      0.66      0.70       115\n",
            " prawo farmaceutyczne       0.67      0.70      0.68        56\n",
            "          prawo karne       0.36      0.36      0.36        36\n",
            "       prawo medyczne       0.64      0.64      0.64       171\n",
            "      prawo podatkowe       0.11      0.10      0.11        10\n",
            "          prawo pracy       0.67      0.75      0.71        96\n",
            "\n",
            "             accuracy                           0.60       544\n",
            "            macro avg       0.44      0.45      0.45       544\n",
            "         weighted avg       0.60      0.60      0.60       544\n",
            "\n",
            "Confusion Matrix: [[  0   2   1   2   1   4   0   1]\n",
            " [  0  19   8   3   1  11   2   5]\n",
            " [  2  12  76   2   9   8   1   5]\n",
            " [  0   1   1  39   2   5   2   6]\n",
            " [  0   5   3   2  13  12   0   1]\n",
            " [  4   9  12   8   9 109   3  17]\n",
            " [  0   3   1   1   0   4   1   0]\n",
            " [  0   4   0   1   1  18   0  72]]\n"
          ]
        }
      ]
    },
    {
      "cell_type": "code",
      "source": [
        "from sklearn.linear_model import SGDClassifier\n",
        "sgd_tfidf = SGDClassifier(loss=\"log_loss\", penalty=\"l2\", max_iter=5)\n",
        "sgd_tfidf.fit(X_train_vectors_tfidf, y_train)\n",
        "\n",
        "y_predict = sgd_tfidf.predict(X_test_vectors_tfidf)\n",
        "y_prob = sgd_tfidf.predict_proba(X_test_vectors_tfidf)[:,1]\n",
        "print(classification_report(y_test,y_predict))\n",
        "print('Confusion Matrix:',confusion_matrix(y_test, y_predict))"
      ],
      "metadata": {
        "id": "k5SkhdaLMiGu",
        "colab": {
          "base_uri": "https://localhost:8080/"
        },
        "outputId": "ecc14906-6195-4f7b-ec29-f3509f4ffbec"
      },
      "execution_count": null,
      "outputs": [
        {
          "output_type": "stream",
          "name": "stdout",
          "text": [
            "                       precision    recall  f1-score   support\n",
            "\n",
            "                 inne       0.75      0.27      0.40        11\n",
            "prawo administracyjne       0.65      0.41      0.50        49\n",
            "        prawo cywilne       0.73      0.82      0.77       115\n",
            " prawo farmaceutyczne       0.80      0.71      0.75        56\n",
            "          prawo karne       0.45      0.28      0.34        36\n",
            "       prawo medyczne       0.70      0.81      0.75       171\n",
            "      prawo podatkowe       0.14      0.10      0.12        10\n",
            "          prawo pracy       0.78      0.83      0.80        96\n",
            "\n",
            "             accuracy                           0.71       544\n",
            "            macro avg       0.62      0.53      0.55       544\n",
            "         weighted avg       0.70      0.71      0.70       544\n",
            "\n",
            "Confusion Matrix: [[  3   0   0   1   0   6   0   1]\n",
            " [  0  20  10   1   4   9   1   4]\n",
            " [  0   6  94   2   6   5   0   2]\n",
            " [  0   0   3  40   0   8   1   4]\n",
            " [  0   1   8   0  10  15   0   2]\n",
            " [  1   2  10   5   2 138   3  10]\n",
            " [  0   0   2   1   0   6   1   0]\n",
            " [  0   2   2   0   0  11   1  80]]\n"
          ]
        },
        {
          "output_type": "stream",
          "name": "stderr",
          "text": [
            "/usr/local/lib/python3.10/dist-packages/sklearn/linear_model/_stochastic_gradient.py:702: ConvergenceWarning: Maximum number of iteration reached before convergence. Consider increasing max_iter to improve the fit.\n",
            "  warnings.warn(\n"
          ]
        }
      ]
    },
    {
      "cell_type": "code",
      "source": [
        "from sklearn.neural_network import MLPClassifier\n",
        "mlp_tfidf = MLPClassifier(solver='lbfgs', alpha=1e-5, hidden_layer_sizes=(20, 8), random_state=1)\n",
        "mlp_tfidf.fit(X_train_vectors_tfidf, y_train)\n",
        "\n",
        "y_predict = mlp_tfidf.predict(X_test_vectors_tfidf)\n",
        "y_prob = mlp_tfidf.predict_proba(X_test_vectors_tfidf)[:,1]\n",
        "print(classification_report(y_test,y_predict))\n",
        "print('Confusion Matrix:',confusion_matrix(y_test, y_predict))"
      ],
      "metadata": {
        "id": "osY6kf15llwd",
        "colab": {
          "base_uri": "https://localhost:8080/"
        },
        "outputId": "f869b75c-804c-424a-f7dc-da5b4fd2c0e6"
      },
      "execution_count": null,
      "outputs": [
        {
          "output_type": "stream",
          "name": "stdout",
          "text": [
            "                       precision    recall  f1-score   support\n",
            "\n",
            "                 inne       0.18      0.18      0.18        11\n",
            "prawo administracyjne       0.33      0.43      0.38        49\n",
            "        prawo cywilne       0.70      0.63      0.66       115\n",
            " prawo farmaceutyczne       0.49      0.41      0.45        56\n",
            "          prawo karne       0.32      0.36      0.34        36\n",
            "       prawo medyczne       0.73      0.65      0.69       171\n",
            "      prawo podatkowe       0.00      0.00      0.00        10\n",
            "          prawo pracy       0.65      0.78      0.71        96\n",
            "\n",
            "             accuracy                           0.59       544\n",
            "            macro avg       0.42      0.43      0.43       544\n",
            "         weighted avg       0.59      0.59      0.59       544\n",
            "\n",
            "Confusion Matrix: [[  2   0   1   3   0   2   1   2]\n",
            " [  2  21   8   1   4   5   1   7]\n",
            " [  3  22  73   5   7   1   0   4]\n",
            " [  0   2   5  23  11  10   1   4]\n",
            " [  0   3   6   2  13  10   1   1]\n",
            " [  4   7   9  11   5 112   2  21]\n",
            " [  0   2   2   2   1   1   0   2]\n",
            " [  0   6   1   0   0  13   1  75]]\n"
          ]
        },
        {
          "output_type": "stream",
          "name": "stderr",
          "text": [
            "/usr/local/lib/python3.10/dist-packages/sklearn/neural_network/_multilayer_perceptron.py:541: ConvergenceWarning: lbfgs failed to converge (status=1):\n",
            "STOP: TOTAL NO. of ITERATIONS REACHED LIMIT.\n",
            "\n",
            "Increase the number of iterations (max_iter) or scale the data as shown in:\n",
            "    https://scikit-learn.org/stable/modules/preprocessing.html\n",
            "  self.n_iter_ = _check_optimize_result(\"lbfgs\", opt_res, self.max_iter)\n"
          ]
        }
      ]
    },
    {
      "cell_type": "markdown",
      "source": [
        "<!-- ### Przygotowanie danych do SOM -->"
      ],
      "metadata": {
        "id": "ztxb4HovVLy6"
      }
    },
    {
      "cell_type": "code",
      "source": [
        "all_vectors = tfidf_vectorizer.transform(df['clean_sample'])\n",
        "all_predictions = lr_tfidf.predict_proba(all_vectors)\n",
        "W = np.array(all_predictions)\n",
        "W = (W - np.mean(W, axis=0)) / np.std(W, axis=0)\n",
        "W[0]"
      ],
      "metadata": {
        "colab": {
          "base_uri": "https://localhost:8080/"
        },
        "id": "5WKEo3xArSzK",
        "outputId": "2d2e2c6b-e6e7-4c64-c6b2-2d68ec842353"
      },
      "execution_count": null,
      "outputs": [
        {
          "output_type": "execute_result",
          "data": {
            "text/plain": [
              "array([-0.24474067, -0.28214803,  2.45851521, -0.33946157, -0.29860134,\n",
              "       -0.90853382, -0.17850332, -0.59708528])"
            ]
          },
          "metadata": {},
          "execution_count": 30
        }
      ]
    },
    {
      "cell_type": "markdown",
      "source": [
        "### Self Organising Map dokumentów z minisom DONE"
      ],
      "metadata": {
        "id": "k_5WGf2eaPvF"
      }
    },
    {
      "cell_type": "code",
      "source": [
        "!pip install minisom\n",
        "from minisom import MiniSom"
      ],
      "metadata": {
        "colab": {
          "base_uri": "https://localhost:8080/"
        },
        "id": "1fbwflf7aWf2",
        "outputId": "ebe69091-2d4d-4790-d846-35a135b336d5"
      },
      "execution_count": null,
      "outputs": [
        {
          "output_type": "stream",
          "name": "stdout",
          "text": [
            "Collecting minisom\n",
            "  Downloading MiniSom-2.3.1.tar.gz (10 kB)\n",
            "  Preparing metadata (setup.py) ... \u001b[?25l\u001b[?25hdone\n",
            "Building wheels for collected packages: minisom\n",
            "  Building wheel for minisom (setup.py) ... \u001b[?25l\u001b[?25hdone\n",
            "  Created wheel for minisom: filename=MiniSom-2.3.1-py3-none-any.whl size=10588 sha256=69871777dbef13ca7f5a3c0d558132cca0dc81e659fad5c539512764f9b52dca\n",
            "  Stored in directory: /root/.cache/pip/wheels/c7/92/d2/33bbda5f86fd8830510b16aa98c8dd420129b5cb24248fd6db\n",
            "Successfully built minisom\n",
            "Installing collected packages: minisom\n",
            "Successfully installed minisom-2.3.1\n"
          ]
        }
      ]
    },
    {
      "cell_type": "code",
      "source": [
        "import math\n",
        "n_neurons = 16 # 5*math.sqrt(len(W))\n",
        "m_neurons = 16 # 5*math.sqrt(len(W))\n",
        "som = MiniSom(x=n_neurons, y=m_neurons, input_len=len(W[0]), sigma=1.0, learning_rate=0.5, neighborhood_function='gaussian', topology='rectangular', activation_distance='euclidean', random_seed=5)\n",
        "# som.pca_weights_init(W)\n",
        "som.train_batch(W, len(W)*10, verbose=True)"
      ],
      "metadata": {
        "colab": {
          "base_uri": "https://localhost:8080/"
        },
        "id": "cOqqpEy3cUuB",
        "outputId": "51c9d82e-5362-4a78-92aa-d8e012354ceb"
      },
      "execution_count": null,
      "outputs": [
        {
          "output_type": "stream",
          "name": "stdout",
          "text": [
            " [ 27190 / 27190 ] 100% - 0:00:00 left \n",
            " quantization error: 0.2151478505346859\n"
          ]
        }
      ]
    },
    {
      "cell_type": "code",
      "source": [
        "som_x = []\n",
        "som_y = []\n",
        "for i in range(len(W)):\n",
        "  w = som.winner(W[i])\n",
        "  som_x.append(w[0])\n",
        "  som_y.append(w[1])"
      ],
      "metadata": {
        "id": "4xqmxTxWdWEx"
      },
      "execution_count": null,
      "outputs": []
    },
    {
      "cell_type": "code",
      "source": [
        "import matplotlib.pyplot as plt\n",
        "plt.figure(figsize=(n_neurons,m_neurons))\n",
        "\n",
        "plt.pcolor(som.distance_map().T, cmap='bone_r', alpha=.2)\n",
        "plt.colorbar()\n",
        "\n",
        "target = df['label'].values\n",
        "w_x = np.array(som_x)\n",
        "w_y = np.array(som_y)\n",
        "colors = {\n",
        "    'inne': 'b',\n",
        "    'prawo administracyjne': 'g',\n",
        "    'prawo cywilne': 'r',\n",
        "    'prawo farmaceutyczne': 'c',\n",
        "    'prawo karne': 'm',\n",
        "    'prawo medyczne': 'y',\n",
        "    'prawo podatkowe': 'k',\n",
        "    'prawo pracy': '0.6'\n",
        "}\n",
        "for c in np.unique(target):\n",
        "  idx_target = target == c\n",
        "  plt.scatter(w_x[idx_target]+.5+(np.random.rand(np.sum(idx_target))-.5)*0.8,\n",
        "              w_y[idx_target]+.5+(np.random.rand(np.sum(idx_target))-.5)*0.8,\n",
        "              s=5, c=colors[c], label=c)\n",
        "plt.legend(loc='upper right')\n",
        "plt.grid()\n",
        "plt.savefig('som_documents.png')\n",
        "plt.show()\n",
        "# df.head(40)"
      ],
      "metadata": {
        "colab": {
          "base_uri": "https://localhost:8080/",
          "height": 1000
        },
        "id": "LgUa03Y7ialM",
        "outputId": "9c0bd40a-32f8-4f75-bbf7-32bc58ad1a2c"
      },
      "execution_count": null,
      "outputs": [
        {
          "output_type": "display_data",
          "data": {
            "text/plain": [
              "<Figure size 1600x1600 with 2 Axes>"
            ],
            "image/png": "[encoded data removed]"
          },
          "metadata": {}
        }
      ]
    }
  ]
}